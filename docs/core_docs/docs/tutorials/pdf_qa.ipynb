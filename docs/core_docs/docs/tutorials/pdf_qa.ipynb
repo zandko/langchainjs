{
 "cells": [
  {
   "cell_type": "raw",
   "metadata": {
    "vscode": {
     "languageId": "raw"
    }
   },
   "source": [
    "---\n",
    "keywords: [pdf, document loader]\n",
    "---"
   ]
  },
  {
   "cell_type": "markdown",
   "metadata": {},
   "source": [
    "# Build a PDF ingestion and Question/Answering system\n",
    "\n",
    "PDF files often hold crucial unstructured data unavailable from other sources. They can be quite lengthy, and unlike plain text files, cannot generally be fed directly into the prompt of a language model.\n",
    "\n",
    "In this tutorial, you'll create a system that can answer questions about PDF files. More specifically, you'll use a [Document Loader](/docs/concepts/#document-loaders) to load text in a format usable by an LLM, then build a retrieval-augmented generation (RAG) pipeline to answer questions, including citations from the source material.\n",
    "\n",
    "This tutorial will gloss over some concepts more deeply covered in our [RAG](/docs/tutorials/rag/) tutorial, so you may want to go through those first if you haven't already.\n",
    "\n",
    "Let's dive in!\n",
    "\n",
    "## Loading documents\n",
    "\n",
    "First, you'll need to choose a PDF to load. We'll use a document from [Nike's annual public SEC report](https://s1.q4cdn.com/806093406/files/doc_downloads/2023/414759-1-_5_Nike-NPS-Combo_Form-10-K_WR.pdf). It's over 100 pages long, and contains some crucial data mixed with longer explanatory text. However, you can feel free to use a PDF of your choosing.\n",
    "\n",
    "Once you've chosen your PDF, the next step is to load it into a format that an LLM can more easily handle, since LLMs generally require text inputs. LangChain has a few different [built-in document loaders](/docs/how_to/document_loader_pdf/) for this purpose which you can experiment with. Below, we'll use one powered by the [`pdf-parse`](https://www.npmjs.com/package/pdf-parse) package that reads from a filepath:"
   ]
  },
  {
   "cell_type": "code",
   "execution_count": 1,
   "metadata": {},
   "outputs": [
    {
     "name": "stdout",
     "output_type": "stream",
     "text": [
      "107\n"
     ]
    }
   ],
   "source": [
    "import \"pdf-parse\"; // Peer dep\n",
    "import { PDFLoader } from \"@langchain/community/document_loaders/fs/pdf\";\n",
    "\n",
    "const loader = new PDFLoader(\"../../data/nke-10k-2023.pdf\");\n",
    "\n",
    "const docs = await loader.load();\n",
    "\n",
    "console.log(docs.length);"
   ]
  },
  {
   "cell_type": "code",
   "execution_count": 2,
   "metadata": {},
   "outputs": [
    {
     "name": "stdout",
     "output_type": "stream",
     "text": [
      "Table of Contents\n",
      "UNITED STATES\n",
      "SECURITIES AND EXCHANGE COMMISSION\n",
      "Washington, D.C. 20549\n",
      "FORM 10-K\n",
      "\n",
      "{\n",
      "  source: '../../data/nke-10k-2023.pdf',\n",
      "  pdf: {\n",
      "    version: '1.10.100',\n",
      "    info: {\n",
      "      PDFFormatVersion: '1.4',\n",
      "      IsAcroFormPresent: false,\n",
      "      IsXFAPresent: false,\n",
      "      Title: '0000320187-23-000039',\n",
      "      Author: 'EDGAR Online, a division of Donnelley Financial Solutions',\n",
      "      Subject: 'Form 10-K filed on 2023-07-20 for the period ending 2023-05-31',\n",
      "      Keywords: '0000320187-23-000039; ; 10-K',\n",
      "      Creator: 'EDGAR Filing HTML Converter',\n",
      "      Producer: 'EDGRpdf Service w/ EO.Pdf 22.0.40.0',\n",
      "      CreationDate: \"D:20230720162200-04'00'\",\n",
      "      ModDate: \"D:20230720162208-04'00'\"\n",
      "    },\n",
      "    metadata: null,\n",
      "    totalPages: 107\n",
      "  },\n",
      "  loc: { pageNumber: 1 }\n",
      "}\n"
     ]
    }
   ],
   "source": [
    "console.log(docs[0].pageContent.slice(0, 100));\n",
    "console.log(docs[0].metadata)"
   ]
  },
  {
   "cell_type": "markdown",
   "metadata": {},
   "source": [
    "So what just happened?\n",
    "\n",
    "- The loader reads the PDF at the specified path into memory.\n",
    "- It then extracts text data using the `pdf-parse` package.\n",
    "- Finally, it creates a LangChain [Document](/docs/concepts/#documents) for each page of the PDF with the page's content and some metadata about where in the document the text came from.\n",
    "\n",
    "LangChain has [many other document loaders](/docs/integrations/document_loaders/) for other data sources, or you can create a [custom document loader](/docs/how_to/document_loader_custom/).\n",
    "\n",
    "## Question answering with RAG\n",
    "\n",
    "Next, you'll prepare the loaded documents for later retrieval. Using a [text splitter](/docs/concepts/#text-splitters), you'll split your loaded documents into smaller documents that can more easily fit into an LLM's context window, then load them into a [vector store](/docs/concepts/#vectorstores). You can then create a [retriever](/docs/concepts/#retrievers) from the vector store for use in our RAG chain:\n",
    "\n",
    "```{=mdx}\n",
    "import ChatModelTabs from \"@theme/ChatModelTabs\";\n",
    "\n",
    "<ChatModelTabs openaiParams={`model=\"gpt-4o\"`} />\n",
    "```"
   ]
  },
  {
   "cell_type": "code",
   "execution_count": null,
   "metadata": {},
   "outputs": [],
   "source": [
    "import { MemoryVectorStore } from \"langchain/vectorstores/memory\";\n",
    "import { OpenAIEmbeddings } from \"@langchain/openai\";\n",
    "import { RecursiveCharacterTextSplitter } from \"@langchain/textsplitters\";\n",
    "\n",
    "const textSplitter = new RecursiveCharacterTextSplitter({\n",
    "  chunkSize: 1000,\n",
    "  chunkOverlap: 200,\n",
    "});\n",
    "\n",
    "const splits = await textSplitter.splitDocuments(docs);\n",
    "\n",
    "const vectorstore = await MemoryVectorStore.fromDocuments(splits, new OpenAIEmbeddings());\n",
    "\n",
    "const retriever = vectorstore.asRetriever();"
   ]
  },
  {
   "cell_type": "markdown",
   "metadata": {},
   "source": [
    "Finally, you'll use some built-in helpers to construct the final `ragChain`:"
   ]
  },
  {
   "cell_type": "code",
   "execution_count": 5,
   "metadata": {},
   "outputs": [
    {
     "name": "stdout",
     "output_type": "stream",
     "text": [
      "{\n",
      "  input: \"What was Nike's revenue in 2023?\",\n",
      "  chat_history: [],\n",
      "  context: [\n",
      "    Document {\n",
      "      pageContent: 'Enterprise Resource Planning Platform, data and analytics, demand sensing, insight gathering, and other areas to create an end-to-end technology foundation, which we\\n' +\n",
      "        'believe will further accelerate our digital transformation. We believe this unified approach will accelerate growth and unlock more efficiency for our business, while driving\\n' +\n",
      "        'speed and responsiveness as we serve consumers globally.\\n' +\n",
      "        'FINANCIAL HIGHLIGHTS\\n' +\n",
      "        '•In fiscal 2023, NIKE, Inc. achieved record Revenues of $51.2 billion, which increased 10% and 16% on a reported and currency-neutral basis, respectively\\n' +\n",
      "        '•NIKE Direct revenues grew 14% from $18.7 billion in fiscal 2022 to $21.3 billion in fiscal 2023, and represented approximately 44% of total NIKE Brand revenues for\\n' +\n",
      "        'fiscal 2023\\n' +\n",
      "        '•Gross margin for the fiscal year decreased 250 basis points to 43.5% primarily driven by higher product costs, higher markdowns and unfavorable changes in foreign\\n' +\n",
      "        'currency exchange rates, partially offset by strategic pricing actions',\n",
      "      metadata: [Object]\n",
      "    },\n",
      "    Document {\n",
      "      pageContent: 'Table of Contents\\n' +\n",
      "        'FISCAL 2023 NIKE BRAND REVENUE HIGHLIGHTS\\n' +\n",
      "        'The following tables present NIKE Brand revenues disaggregated by reportable operating segment, distribution channel and major product line:\\n' +\n",
      "        'FISCAL 2023 COMPARED TO FISCAL 2022\\n' +\n",
      "        '•NIKE, Inc. Revenues were $51.2 billion in fiscal 2023, which increased 10% and 16% compared to fiscal 2022 on a reported and currency-neutral basis, respectively.\\n' +\n",
      "        'The increase was due to higher revenues in North America, Europe, Middle East & Africa (\"EMEA\"), APLA and Greater China, which contributed approximately 7, 6,\\n' +\n",
      "        '2 and 1 percentage points to NIKE, Inc. Revenues, respectively.\\n' +\n",
      "        '•NIKE Brand revenues, which represented over 90% of NIKE, Inc. Revenues, increased 10% and 16% on a reported and currency-neutral basis, respectively. This\\n' +\n",
      "        \"increase was primarily due to higher revenues in Men's, the Jordan Brand, Women's and Kids' which grew 17%, 35%,11% and 10%, respectively, on a wholesale\\n\" +\n",
      "        'equivalent basis.',\n",
      "      metadata: [Object]\n",
      "    },\n",
      "    Document {\n",
      "      pageContent: 'Table of Contents\\n' +\n",
      "        'EUROPE, MIDDLE EAST & AFRICA\\n' +\n",
      "        '(Dollars in millions)\\n' +\n",
      "        'FISCAL 2023FISCAL 2022% CHANGE\\n' +\n",
      "        '% CHANGE\\n' +\n",
      "        'EXCLUDING\\n' +\n",
      "        'CURRENCY\\n' +\n",
      "        'CHANGESFISCAL 2021% CHANGE\\n' +\n",
      "        '% CHANGE\\n' +\n",
      "        'EXCLUDING\\n' +\n",
      "        'CURRENCY\\n' +\n",
      "        'CHANGES\\n' +\n",
      "        'Revenues by:\\n' +\n",
      "        'Footwear$8,260 $7,388 12 %25 %$6,970 6 %9 %\\n' +\n",
      "        'Apparel4,566 4,527 1 %14 %3,996 13 %16 %\\n' +\n",
      "        'Equipment592 564 5 %18 %490 15 %17 %\\n' +\n",
      "        'TOTAL REVENUES$13,418 $12,479 8 %21 %$11,456 9 %12 %\\n' +\n",
      "        'Revenues by:   \\n' +\n",
      "        'Sales to Wholesale Customers$8,522 $8,377 2 %15 %$7,812 7 %10 %\\n' +\n",
      "        'Sales through NIKE Direct4,896 4,102 19 %33 %3,644 13 %15 %\\n' +\n",
      "        'TOTAL REVENUES$13,418 $12,479 8 %21 %$11,456 9 %12 %\\n' +\n",
      "        'EARNINGS BEFORE INTEREST AND TAXES$3,531 $3,293 7 %$2,435 35 % \\n' +\n",
      "        'FISCAL 2023 COMPARED TO FISCAL 2022\\n' +\n",
      "        \"•EMEA revenues increased 21% on a currency-neutral basis, due to higher revenues in Men's, the Jordan Brand, Women's and Kids'. NIKE Direct revenues\\n\" +\n",
      "        'increased 33%, driven primarily by strong digital sales growth of 43% and comparable store sales growth of 22%.',\n",
      "      metadata: [Object]\n",
      "    },\n",
      "    Document {\n",
      "      pageContent: 'Table of Contents\\n' +\n",
      "        'NORTH AMERICA\\n' +\n",
      "        '(Dollars in millions)\\n' +\n",
      "        'FISCAL 2023FISCAL 2022% CHANGE\\n' +\n",
      "        '% CHANGE\\n' +\n",
      "        'EXCLUDING\\n' +\n",
      "        'CURRENCY\\n' +\n",
      "        'CHANGESFISCAL 2021% CHANGE\\n' +\n",
      "        '% CHANGE\\n' +\n",
      "        'EXCLUDING\\n' +\n",
      "        'CURRENCY\\n' +\n",
      "        'CHANGES\\n' +\n",
      "        'Revenues by:\\n' +\n",
      "        'Footwear$14,897 $12,228 22 %22 %$11,644 5 %5 %\\n' +\n",
      "        'Apparel5,947 5,492 8 %9 %5,028 9 %9 %\\n' +\n",
      "        'Equipment764 633 21 %21 %507 25 %25 %\\n' +\n",
      "        'TOTAL REVENUES$21,608 $18,353 18 %18 %$17,179 7 %7 %\\n' +\n",
      "        'Revenues by:   \\n' +\n",
      "        'Sales to Wholesale Customers$11,273 $9,621 17 %18 %$10,186 -6 %-6 %\\n' +\n",
      "        'Sales through NIKE Direct10,335 8,732 18 %18 %6,993 25 %25 %\\n' +\n",
      "        'TOTAL REVENUES$21,608 $18,353 18 %18 %$17,179 7 %7 %\\n' +\n",
      "        'EARNINGS BEFORE INTEREST AND TAXES$5,454 $5,114 7 %$5,089 0 %\\n' +\n",
      "        'FISCAL 2023 COMPARED TO FISCAL 2022\\n' +\n",
      "        \"•North America revenues increased 18% on a currency-neutral basis, primarily due to higher revenues in Men's and the Jordan Brand. NIKE Direct revenues\\n\" +\n",
      "        'increased 18%, driven by strong digital sales growth of 23%, comparable store sales growth of 9% and the addition of new stores.',\n",
      "      metadata: [Object]\n",
      "    }\n",
      "  ],\n",
      "  answer: 'According to the financial highlights, Nike, Inc. achieved record revenues of $51.2 billion in fiscal 2023, which increased 10% on a reported basis and 16% on a currency-neutral basis compared to fiscal 2022.'\n",
      "}\n"
     ]
    }
   ],
   "source": [
    "import { createRetrievalChain } from \"langchain/chains/retrieval\";\n",
    "import { createStuffDocumentsChain } from \"langchain/chains/combine_documents\";\n",
    "import { ChatPromptTemplate } from \"@langchain/core/prompts\";\n",
    "\n",
    "const systemTemplate = [\n",
    "  `You are an assistant for question-answering tasks. `,\n",
    "  `Use the following pieces of retrieved context to answer `,\n",
    "  `the question. If you don't know the answer, say that you `,\n",
    "  `don't know. Use three sentences maximum and keep the `,\n",
    "  `answer concise.`,\n",
    "  `\\n\\n`,\n",
    "  `{context}`,\n",
    "].join(\"\");\n",
    "\n",
    "const prompt = ChatPromptTemplate.fromMessages([\n",
    "  [\"system\", systemTemplate],\n",
    "  [\"human\", \"{input}\"],\n",
    "]);\n",
    "\n",
    "const questionAnswerChain = await createStuffDocumentsChain({ llm, prompt });\n",
    "const ragChain = await createRetrievalChain({ retriever, combineDocsChain: questionAnswerChain });\n",
    "\n",
    "const results = await ragChain.invoke({\n",
    "  input: \"What was Nike's revenue in 2023?\",\n",
    "});\n",
    "\n",
    "console.log(results);"
   ]
  },
  {
   "cell_type": "markdown",
   "metadata": {},
   "source": [
    "You can see that you get both a final answer in the `answer` key of the results object, and the `context` the LLM used to generate an answer.\n",
    "\n",
    "Examining the values under the `context` further, you can see that they are documents that each contain a chunk of the ingested page content. Usefully, these documents also preserve the original metadata from way back when you first loaded them:"
   ]
  },
  {
   "cell_type": "code",
   "execution_count": 7,
   "metadata": {},
   "outputs": [
    {
     "name": "stdout",
     "output_type": "stream",
     "text": [
      "Enterprise Resource Planning Platform, data and analytics, demand sensing, insight gathering, and other areas to create an end-to-end technology foundation, which we\n",
      "believe will further accelerate our digital transformation. We believe this unified approach will accelerate growth and unlock more efficiency for our business, while driving\n",
      "speed and responsiveness as we serve consumers globally.\n",
      "FINANCIAL HIGHLIGHTS\n",
      "•In fiscal 2023, NIKE, Inc. achieved record Revenues of $51.2 billion, which increased 10% and 16% on a reported and currency-neutral basis, respectively\n",
      "•NIKE Direct revenues grew 14% from $18.7 billion in fiscal 2022 to $21.3 billion in fiscal 2023, and represented approximately 44% of total NIKE Brand revenues for\n",
      "fiscal 2023\n",
      "•Gross margin for the fiscal year decreased 250 basis points to 43.5% primarily driven by higher product costs, higher markdowns and unfavorable changes in foreign\n",
      "currency exchange rates, partially offset by strategic pricing actions\n"
     ]
    }
   ],
   "source": [
    "console.log(results.context[0].pageContent);"
   ]
  },
  {
   "cell_type": "code",
   "execution_count": 8,
   "metadata": {},
   "outputs": [
    {
     "name": "stdout",
     "output_type": "stream",
     "text": [
      "{\n",
      "  source: '../../data/nke-10k-2023.pdf',\n",
      "  pdf: {\n",
      "    version: '1.10.100',\n",
      "    info: {\n",
      "      PDFFormatVersion: '1.4',\n",
      "      IsAcroFormPresent: false,\n",
      "      IsXFAPresent: false,\n",
      "      Title: '0000320187-23-000039',\n",
      "      Author: 'EDGAR Online, a division of Donnelley Financial Solutions',\n",
      "      Subject: 'Form 10-K filed on 2023-07-20 for the period ending 2023-05-31',\n",
      "      Keywords: '0000320187-23-000039; ; 10-K',\n",
      "      Creator: 'EDGAR Filing HTML Converter',\n",
      "      Producer: 'EDGRpdf Service w/ EO.Pdf 22.0.40.0',\n",
      "      CreationDate: \"D:20230720162200-04'00'\",\n",
      "      ModDate: \"D:20230720162208-04'00'\"\n",
      "    },\n",
      "    metadata: null,\n",
      "    totalPages: 107\n",
      "  },\n",
      "  loc: { pageNumber: 31, lines: { from: 14, to: 22 } }\n",
      "}\n"
     ]
    }
   ],
   "source": [
    "console.log(results.context[0].metadata);"
   ]
  },
  {
   "cell_type": "markdown",
   "metadata": {},
   "source": [
    "This particular chunk came from page 31 in the original PDF. You can use this data to show which page in the PDF the answer came from, allowing users to quickly verify that answers are based on the source material.\n",
    "\n",
    ":::info\n",
    "For a deeper dive into RAG, see [this more focused tutorial](/docs/tutorials/rag/) or [our how-to guides](/docs/how_to/#qa-with-rag).\n",
    ":::\n",
    "\n",
    "## Next steps\n",
    "\n",
    "You've now seen how to load documents from a PDF file with a Document Loader and some techniques you can use to prepare that loaded data for RAG.\n",
    "\n",
    "For more on document loaders, you can check out:\n",
    "\n",
    "- [The entry in the conceptual guide](/docs/concepts/#document-loaders)\n",
    "- [Related how-to guides](/docs/how_to/#document-loaders)\n",
    "- [Available integrations](/docs/integrations/document_loaders/)\n",
    "- [How to create a custom document loader](/docs/how_to/document_loader_custom/)\n",
    "\n",
    "For more on RAG, see:\n",
    "\n",
    "- [Build a Retrieval Augmented Generation (RAG) App](/docs/tutorials/rag/)\n",
    "- [Related how-to guides](/docs/how_to/#qa-with-rag)"
   ]
  }
 ],
 "metadata": {
  "kernelspec": {
   "display_name": "TypeScript",
   "language": "typescript",
   "name": "tslab"
  },
  "language_info": {
   "codemirror_mode": {
    "mode": "typescript",
    "name": "javascript",
    "typescript": true
   },
   "file_extension": ".ts",
   "mimetype": "text/typescript",
   "name": "typescript",
   "version": "3.7.2"
  }
 },
 "nbformat": 4,
 "nbformat_minor": 2
}
